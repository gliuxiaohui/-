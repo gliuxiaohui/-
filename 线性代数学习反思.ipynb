{
 "cells": [
  {
   "cell_type": "markdown",
   "metadata": {},
   "source": [
    "# 学习线性代数的历程"
   ]
  },
  {
   "cell_type": "markdown",
   "metadata": {},
   "source": [
    "1. 2012年，大二时候修了线性代数这门课，忘记是哪个出版社的了，反正就是一本很薄的课本。接触到概念：行列式，基变换，秩，特征向量，特征值，SVD...当时，学得一脸懵，上课时一直在计算，但是完全不理解其作用，也不知道其背后的几何含义。考试前就记一下其运算法则，纯粹机械记忆，当然考完试忘记得干干净净，都不敢说自己学过线性代数。<br>\n",
    "2. 到了2018年，因为工作需要，在处理图形和优化时，经常接触到矩阵，深知要对线性代数有个透彻的理解。终于在今年7月，去b站刷了一波被众人推荐的[MIT大师的线性代数的公开课](https://www.bilibili.com/video/av15463995?from=search&seid=15680217715031374803)。大师出手就知道有没有，看视频的时候，对老师一脸膜拜，觉得自己以前是白学了。看起来这么玄乎的SVD是为了简化运算用的，为什么要求最大线性无关组，基坐标的选取有什么作用，都有一个较好的理解。结合几何，才能真正地理解线性代数。\n",
    "3. 在11月份左右，发现b站有一个很好的up主-[3Blue1Brown](https://space.bilibili.com/88461692),其中有个专辑是讲线性代数的。无论是对初学者来说，还是入门者来说，都值得看看。视频通过直观的动画演示，让我们理解线性代数的大部分核心概念，有醍醐灌顶之感。Figure1是3Blue1Brown的头像。"
   ]
  },
  {
   "cell_type": "markdown",
   "metadata": {},
   "source": [
    "<center>\n",
    "<img src=\"http://static1.squarespace.com/static/54f63048e4b0a47e92eb5234/t/5b6090050e2e72e41d141150/1543023936898/\"/ width = \"300\" height = \"200\" alt=\"3blue1brown\">\n",
    "Figure 1. 3Blue1Brown\n",
    "</center>"
   ]
  },
  {
   "cell_type": "markdown",
   "metadata": {},
   "source": [
    "# 学习线性代数的正确打开方式"
   ]
  },
  {
   "cell_type": "markdown",
   "metadata": {},
   "source": [
    "1.先看看3Blue1Brown的视频，对线性代数有个直观正确地理解，重在了解线性代数背后的几何，对初学者非常友好。<br>\n",
    "2.去看一下MIT大佬讲的线性代数，有35集，总共时长约28小时，建议一天一到两集，隔太久看可能会忘了前面讲了什么。<br>\n",
    "至于学校教材，看不懂就算了，不是自己智商不足，而是打开方式确实不对啊！"
   ]
  },
  {
   "cell_type": "markdown",
   "metadata": {},
   "source": [
    "# 后续"
   ]
  },
  {
   "cell_type": "markdown",
   "metadata": {},
   "source": [
    "鉴于被up主的线性代数系列惊艳了，所以决定去刷一下up主的微积分本质系列，看看有没有一个更好的角度理解微积分。"
   ]
  }
 ],
 "metadata": {
  "kernelspec": {
   "display_name": "Python 3",
   "language": "python",
   "name": "python3"
  },
  "language_info": {
   "codemirror_mode": {
    "name": "ipython",
    "version": 3
   },
   "file_extension": ".py",
   "mimetype": "text/x-python",
   "name": "python",
   "nbconvert_exporter": "python",
   "pygments_lexer": "ipython3",
   "version": "3.6.6"
  }
 },
 "nbformat": 4,
 "nbformat_minor": 2
}
