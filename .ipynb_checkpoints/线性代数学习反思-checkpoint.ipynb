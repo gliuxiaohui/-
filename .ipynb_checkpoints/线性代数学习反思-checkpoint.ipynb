{
 "cells": [
  {
   "cell_type": "markdown",
   "metadata": {},
   "source": [
    "# 学习线性代数的历程"
   ]
  },
  {
   "cell_type": "markdown",
   "metadata": {},
   "source": [
    "1. 2012年，大二时候修了线性代数这门课，忘记是哪个出版社的了，反正就是一本很薄的课本。接触到概念：行列式，基变换，秩，特征向量，特征值，SVD...当时，学得一脸懵，上课时一直在数值计算，但是完全不理解其作用，甚至不知道其背后的几何含义，考完试后忘记得一干二净。有种从来没学过线性代数的感觉，颇有挫败感。<br>\n",
    "2. 因为工作需要，在处理图形和优化时，经常接触到矩阵，深知要对线性代数有个透彻的理解。终于在今年7月，去b站刷了一波[MIT大师的线性代数的公开课](https://www.bilibili.com/video/av15463995?from=search&seid=5669981618405552061)。看视频的时候，一直哇塞，看起来这么玄乎的SVD是为了简化运算用的。为什么要求最大线性无关组，基坐标的选取有什么作用，都有一个较好的理解。\n",
    "3. 在11月份左右，发现b站有一个很好的up主-[3Blue1Brown](https://space.bilibili.com/88461692),其中有个专辑是讲线性代数的。无论是对初学者来说，还是已经学习过的人来说，都是"
   ]
  },
  {
   "cell_type": "markdown",
   "metadata": {},
   "source": [
    "![figure](https://pic1.zhimg.com/v2-e71fc15e7966d0f27c6446e4b75e0964_r.jpg)"
   ]
  },
  {
   "cell_type": "code",
   "execution_count": null,
   "metadata": {},
   "outputs": [],
   "source": []
  }
 ],
 "metadata": {
  "kernelspec": {
   "display_name": "Python 3",
   "language": "python",
   "name": "python3"
  },
  "language_info": {
   "codemirror_mode": {
    "name": "ipython",
    "version": 3
   },
   "file_extension": ".py",
   "mimetype": "text/x-python",
   "name": "python",
   "nbconvert_exporter": "python",
   "pygments_lexer": "ipython3",
   "version": "3.6.6"
  }
 },
 "nbformat": 4,
 "nbformat_minor": 2
}
